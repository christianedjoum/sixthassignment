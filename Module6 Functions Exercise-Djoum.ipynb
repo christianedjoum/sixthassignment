{
 "cells": [
  {
   "cell_type": "markdown",
   "metadata": {},
   "source": [
    "1. Round 4.5667 to the nearest hundreth using a build-in function, round()."
   ]
  },
  {
   "cell_type": "code",
   "execution_count": 1,
   "metadata": {},
   "outputs": [
    {
     "data": {
      "text/plain": [
       "4.57"
      ]
     },
     "execution_count": 1,
     "metadata": {},
     "output_type": "execute_result"
    }
   ],
   "source": [
    "round(4.5667,2)"
   ]
  },
  {
   "cell_type": "markdown",
   "metadata": {},
   "source": [
    "2. Convert \"657\" to an integer data type"
   ]
  },
  {
   "cell_type": "code",
   "execution_count": 9,
   "metadata": {},
   "outputs": [
    {
     "data": {
      "text/plain": [
       "int"
      ]
     },
     "execution_count": 9,
     "metadata": {},
     "output_type": "execute_result"
    }
   ],
   "source": [
    "x = int(\"657\")\n",
    "type(x)"
   ]
  },
  {
   "cell_type": "markdown",
   "metadata": {},
   "source": [
    "3.\n",
    "Write a program to get two numbers from a user. Then, create a secret code where a code consists of 6 numbers and each number is randomly generated number between two numbers from a user. "
   ]
  },
  {
   "cell_type": "code",
   "execution_count": 16,
   "metadata": {},
   "outputs": [
    {
     "name": "stdout",
     "output_type": "stream",
     "text": [
      "give me a number: 20\n",
      "give me another number: 30\n",
      "Secret code is 28 29 28 27 28 20\n"
     ]
    }
   ],
   "source": [
    "import random as rand\n",
    "num1 = int(input('give me a number: '))\n",
    "num2 = int(input('give me another number: '))\n",
    "one = rand.randint(num1,num2)\n",
    "two = rand.randint(num1,num2)\n",
    "three = rand.randint(num1,num2)\n",
    "four = rand.randint(num1,num2)\n",
    "five = rand.randint(num1,num2)\n",
    "six = rand.randint(num1,num2)\n",
    "print(f'Secret code is {one} {two} {three} {four} {five} {six}')"
   ]
  },
  {
   "cell_type": "markdown",
   "metadata": {},
   "source": [
    "4.\n",
    "Write a program to center align below text where number of characters per line is 40:\n",
    "\n",
    "    Hickory, dickory, dock,\n",
    "    The mouse ran up the clock.\n",
    "    The clock struck one,\n",
    "    The mouse ran down,\n",
    "    Hickory, dickory, dock\n",
    "\n",
    "<b>Do not use string's center method! </b>"
   ]
  },
  {
   "cell_type": "code",
   "execution_count": 20,
   "metadata": {
    "scrolled": true
   },
   "outputs": [
    {
     "name": "stdout",
     "output_type": "stream",
     "text": [
      "        Hickory, dickory, dock,\n",
      "      The mouse ran up the clock.\n",
      "         The clock struck one,\n",
      "          The mouse ran down,\n",
      "         Hickory, dickory, dock\n"
     ]
    }
   ],
   "source": [
    "def shift_line_to_center(line):\n",
    "    max_character = 40\n",
    "    current_character = len(line)\n",
    "    space_add = (max_character - current_character)//2\n",
    "    line = \" \"*space_add + line\n",
    "    print(line)\n",
    "    \n",
    "\n",
    "line1 = \"Hickory, dickory, dock,\"\n",
    "line2 = \"The mouse ran up the clock.\"\n",
    "line3 = \"The clock struck one,\"\n",
    "line4 = \"The mouse ran down,\"\n",
    "line5 = \"Hickory, dickory, dock\"\n",
    "\n",
    "shift_line_to_center(line1)\n",
    "shift_line_to_center(line2)\n",
    "shift_line_to_center(line3)\n",
    "shift_line_to_center(line4)\n",
    "shift_line_to_center(line5)"
   ]
  },
  {
   "cell_type": "markdown",
   "metadata": {},
   "source": [
    "5. Write a function to calculate the miles per gallon.\n",
    "Get a miles driven and gallons used from a user and call your function to calculate the miles per gallon. "
   ]
  },
  {
   "cell_type": "code",
   "execution_count": 13,
   "metadata": {},
   "outputs": [
    {
     "name": "stdout",
     "output_type": "stream",
     "text": [
      "miles driven: 60\n",
      "gallons used: 3\n",
      "The miles per gallon is 20.0 mpg\n"
     ]
    }
   ],
   "source": [
    "def miles_per_gallon(x,y):\n",
    "    total = x/y\n",
    "    print(f'The miles per gallon is {total} mpg')\n",
    "miles = int(input('miles driven: '))\n",
    "gallon = int(input('gallons used: '))\n",
    "miles_per_gallon(miles,gallon)"
   ]
  },
  {
   "cell_type": "code",
   "execution_count": null,
   "metadata": {},
   "outputs": [],
   "source": []
  },
  {
   "cell_type": "code",
   "execution_count": null,
   "metadata": {},
   "outputs": [],
   "source": []
  }
 ],
 "metadata": {
  "kernelspec": {
   "display_name": "Python 3 (ipykernel)",
   "language": "python",
   "name": "python3"
  },
  "language_info": {
   "codemirror_mode": {
    "name": "ipython",
    "version": 3
   },
   "file_extension": ".py",
   "mimetype": "text/x-python",
   "name": "python",
   "nbconvert_exporter": "python",
   "pygments_lexer": "ipython3",
   "version": "3.9.7"
  }
 },
 "nbformat": 4,
 "nbformat_minor": 4
}
